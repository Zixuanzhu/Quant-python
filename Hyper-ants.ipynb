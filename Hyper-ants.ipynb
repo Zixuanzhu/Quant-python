{
 "cells": [
  {
   "cell_type": "markdown",
   "metadata": {},
   "source": [
    "# Hyper-ants: ants traveling in hyperspace\n",
    "\n",
    "An ant is at the origin in n-dimensional Euclidean space, and is about to traverse the edges of a hypercube with sides of unit length. At each vertex, the ant randomly chooses an edge, and moves to the next vertex. On average, how far will the ant travel until it reaches (1,1,....,1)?\n"
   ]
  },
  {
   "cell_type": "code",
   "execution_count": 29,
   "metadata": {},
   "outputs": [
    {
     "data": {
      "text/plain": [
       "{4: 109,\n",
       " 6: 96,\n",
       " 8: 73,\n",
       " 10: 72,\n",
       " 12: 78,\n",
       " 14: 54,\n",
       " 16: 51,\n",
       " 18: 53,\n",
       " 20: 41,\n",
       " 22: 33,\n",
       " 24: 38,\n",
       " 26: 34,\n",
       " 28: 30,\n",
       " 30: 29,\n",
       " 32: 22,\n",
       " 34: 14,\n",
       " 36: 16,\n",
       " 38: 14,\n",
       " 40: 17,\n",
       " 42: 11,\n",
       " 44: 6,\n",
       " 46: 11,\n",
       " 48: 8,\n",
       " 50: 9,\n",
       " 52: 9,\n",
       " 54: 8,\n",
       " 56: 5,\n",
       " 58: 8,\n",
       " 60: 9,\n",
       " 62: 4,\n",
       " 64: 2,\n",
       " 68: 2,\n",
       " 70: 4,\n",
       " 72: 2,\n",
       " 74: 2,\n",
       " 76: 2,\n",
       " 78: 1,\n",
       " 80: 4,\n",
       " 82: 3,\n",
       " 86: 3,\n",
       " 88: 3,\n",
       " 92: 1,\n",
       " 94: 1,\n",
       " 96: 1,\n",
       " 102: 1,\n",
       " 106: 1,\n",
       " 108: 1,\n",
       " 112: 1,\n",
       " 128: 1,\n",
       " 154: 1,\n",
       " 170: 1}"
      ]
     },
     "execution_count": 29,
     "metadata": {},
     "output_type": "execute_result"
    }
   ],
   "source": [
    "dimension = 3\n",
    "\n",
    "from random import randint\n",
    "\n",
    "def sum_workaround(vertex):\n",
    "    sum_ = 0\n",
    "    for coordinate in vertex:\n",
    "        sum_ += coordinate\n",
    "    return sum_\n",
    "\n",
    "def number_of_moves(dimension):\n",
    "    #return the number of moves needed for\n",
    "    #one simulated trip by the ant.\n",
    "    vertex = [0] * dimension  #create a list\n",
    "    move_count = 0\n",
    "    while sum(vertex) < dimension:\n",
    "        axis_choice = randint(0,dimension - 1)\n",
    "        vertex[axis_choice] = 1 - vertex[axis_choice]  #if vertex[axis_choice]=0,change it to 1; and 1 change to 0\n",
    "        move_count += 1\n",
    "    return move_count\n",
    "        \n",
    "number_of_trials = 1000\n",
    "trials = [number_of_moves(4) for i in range(number_of_trials)]\n",
    "#initialize dictionary to count frequency of number of moves\n",
    "number_moves_count = {trial:0 for trial in trials}\n",
    "for trial in trials:\n",
    "    number_moves_count[trial] += 1\n",
    "number_moves_count\n",
    "    \n",
    "    \n",
    "    \n",
    "  "
   ]
  },
  {
   "cell_type": "code",
   "execution_count": null,
   "metadata": {
    "collapsed": true
   },
   "outputs": [],
   "source": []
  },
  {
   "cell_type": "code",
   "execution_count": null,
   "metadata": {
    "collapsed": true
   },
   "outputs": [],
   "source": []
  },
  {
   "cell_type": "code",
   "execution_count": null,
   "metadata": {
    "collapsed": true
   },
   "outputs": [],
   "source": []
  }
 ],
 "metadata": {
  "kernelspec": {
   "display_name": "Python 3",
   "language": "python",
   "name": "python3"
  },
  "language_info": {
   "codemirror_mode": {
    "name": "ipython",
    "version": 3
   },
   "file_extension": ".py",
   "mimetype": "text/x-python",
   "name": "python",
   "nbconvert_exporter": "python",
   "pygments_lexer": "ipython3",
   "version": "3.6.1"
  }
 },
 "nbformat": 4,
 "nbformat_minor": 2
}
